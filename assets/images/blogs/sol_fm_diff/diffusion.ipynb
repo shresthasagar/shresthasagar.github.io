{
 "cells": [
  {
   "cell_type": "code",
   "execution_count": 24,
   "metadata": {},
   "outputs": [
    {
     "name": "stderr",
     "output_type": "stream",
     "text": [
      "  0%|          | 0/79 [00:00<?, ?it/s]"
     ]
    },
    {
     "name": "stderr",
     "output_type": "stream",
     "text": [
      "100%|██████████| 79/79 [00:00<00:00, 368.18it/s]\n",
      "100%|██████████| 79/79 [00:00<00:00, 356.26it/s]\n",
      "100%|██████████| 79/79 [00:00<00:00, 531.27it/s]\n",
      "100%|██████████| 79/79 [00:00<00:00, 463.94it/s]\n",
      "100%|██████████| 79/79 [00:00<00:00, 560.44it/s]\n",
      "100%|██████████| 79/79 [00:00<00:00, 396.19it/s]\n",
      "100%|██████████| 79/79 [00:00<00:00, 406.95it/s]\n",
      "100%|██████████| 79/79 [00:00<00:00, 392.47it/s]\n",
      "100%|██████████| 79/79 [00:00<00:00, 365.22it/s]\n",
      "100%|██████████| 79/79 [00:00<00:00, 397.71it/s]\n"
     ]
    },
    {
     "name": "stdout",
     "output_type": "stream",
     "text": [
      "Epoch 10/300 completed, Loss: 0.7787\n"
     ]
    },
    {
     "name": "stderr",
     "output_type": "stream",
     "text": [
      "100%|██████████| 79/79 [00:00<00:00, 430.86it/s]\n",
      "100%|██████████| 79/79 [00:00<00:00, 328.90it/s]\n",
      "100%|██████████| 79/79 [00:00<00:00, 359.69it/s]\n",
      "100%|██████████| 79/79 [00:00<00:00, 510.38it/s]\n",
      "100%|██████████| 79/79 [00:00<00:00, 516.20it/s]\n",
      "100%|██████████| 79/79 [00:00<00:00, 506.50it/s]\n",
      "100%|██████████| 79/79 [00:00<00:00, 486.96it/s]\n",
      "100%|██████████| 79/79 [00:00<00:00, 421.97it/s]\n",
      "100%|██████████| 79/79 [00:00<00:00, 388.75it/s]\n",
      "100%|██████████| 79/79 [00:00<00:00, 315.96it/s]\n"
     ]
    },
    {
     "name": "stdout",
     "output_type": "stream",
     "text": [
      "Epoch 20/300 completed, Loss: 0.6114\n"
     ]
    },
    {
     "name": "stderr",
     "output_type": "stream",
     "text": [
      "100%|██████████| 79/79 [00:00<00:00, 372.14it/s]\n",
      "100%|██████████| 79/79 [00:00<00:00, 369.28it/s]\n",
      "100%|██████████| 79/79 [00:00<00:00, 404.54it/s]\n",
      "100%|██████████| 79/79 [00:00<00:00, 371.95it/s]\n",
      "100%|██████████| 79/79 [00:00<00:00, 364.28it/s]\n",
      "100%|██████████| 79/79 [00:00<00:00, 393.53it/s]\n",
      "100%|██████████| 79/79 [00:00<00:00, 337.47it/s]\n",
      "100%|██████████| 79/79 [00:00<00:00, 339.45it/s]\n",
      "100%|██████████| 79/79 [00:00<00:00, 377.08it/s]\n",
      "100%|██████████| 79/79 [00:00<00:00, 427.70it/s]\n"
     ]
    },
    {
     "name": "stdout",
     "output_type": "stream",
     "text": [
      "Epoch 30/300 completed, Loss: 0.5458\n"
     ]
    },
    {
     "name": "stderr",
     "output_type": "stream",
     "text": [
      "100%|██████████| 79/79 [00:00<00:00, 351.90it/s]\n",
      "100%|██████████| 79/79 [00:00<00:00, 419.60it/s]\n",
      "100%|██████████| 79/79 [00:00<00:00, 410.14it/s]\n",
      "100%|██████████| 79/79 [00:00<00:00, 404.87it/s]\n",
      "100%|██████████| 79/79 [00:00<00:00, 504.32it/s]\n",
      "100%|██████████| 79/79 [00:00<00:00, 534.47it/s]\n",
      "100%|██████████| 79/79 [00:00<00:00, 456.22it/s]\n",
      "100%|██████████| 79/79 [00:00<00:00, 410.16it/s]\n",
      "100%|██████████| 79/79 [00:00<00:00, 372.30it/s]\n",
      "100%|██████████| 79/79 [00:00<00:00, 393.21it/s]\n"
     ]
    },
    {
     "name": "stdout",
     "output_type": "stream",
     "text": [
      "Epoch 40/300 completed, Loss: 0.5121\n"
     ]
    },
    {
     "name": "stderr",
     "output_type": "stream",
     "text": [
      "100%|██████████| 79/79 [00:00<00:00, 346.11it/s]\n",
      "100%|██████████| 79/79 [00:00<00:00, 396.39it/s]\n",
      "100%|██████████| 79/79 [00:00<00:00, 408.06it/s]\n",
      "100%|██████████| 79/79 [00:00<00:00, 396.76it/s]\n",
      "100%|██████████| 79/79 [00:00<00:00, 429.27it/s]\n",
      "100%|██████████| 79/79 [00:00<00:00, 479.42it/s]\n",
      "100%|██████████| 79/79 [00:00<00:00, 448.28it/s]\n",
      "100%|██████████| 79/79 [00:00<00:00, 396.68it/s]\n",
      "100%|██████████| 79/79 [00:00<00:00, 380.63it/s]\n",
      "100%|██████████| 79/79 [00:00<00:00, 419.69it/s]\n"
     ]
    },
    {
     "name": "stdout",
     "output_type": "stream",
     "text": [
      "Epoch 50/300 completed, Loss: 0.4838\n"
     ]
    },
    {
     "name": "stderr",
     "output_type": "stream",
     "text": [
      "100%|██████████| 79/79 [00:00<00:00, 400.23it/s]\n",
      "100%|██████████| 79/79 [00:00<00:00, 349.24it/s]\n",
      "100%|██████████| 79/79 [00:00<00:00, 325.24it/s]\n",
      "100%|██████████| 79/79 [00:00<00:00, 354.69it/s]\n",
      "100%|██████████| 79/79 [00:00<00:00, 378.90it/s]\n",
      "100%|██████████| 79/79 [00:00<00:00, 410.20it/s]\n",
      "100%|██████████| 79/79 [00:00<00:00, 498.19it/s]\n",
      "100%|██████████| 79/79 [00:00<00:00, 506.44it/s]\n",
      "100%|██████████| 79/79 [00:00<00:00, 347.46it/s]\n",
      "100%|██████████| 79/79 [00:00<00:00, 359.07it/s]\n"
     ]
    },
    {
     "name": "stdout",
     "output_type": "stream",
     "text": [
      "Epoch 60/300 completed, Loss: 0.4486\n"
     ]
    },
    {
     "name": "stderr",
     "output_type": "stream",
     "text": [
      "100%|██████████| 79/79 [00:00<00:00, 345.83it/s]\n",
      "100%|██████████| 79/79 [00:00<00:00, 453.07it/s]\n",
      "100%|██████████| 79/79 [00:00<00:00, 391.14it/s]\n",
      "100%|██████████| 79/79 [00:00<00:00, 388.66it/s]\n",
      "100%|██████████| 79/79 [00:00<00:00, 370.37it/s]\n",
      "100%|██████████| 79/79 [00:00<00:00, 476.40it/s]\n",
      "100%|██████████| 79/79 [00:00<00:00, 500.65it/s]\n",
      "100%|██████████| 79/79 [00:00<00:00, 528.76it/s]\n",
      "100%|██████████| 79/79 [00:00<00:00, 514.53it/s]\n",
      "100%|██████████| 79/79 [00:00<00:00, 414.19it/s]\n"
     ]
    },
    {
     "name": "stdout",
     "output_type": "stream",
     "text": [
      "Epoch 70/300 completed, Loss: 0.4527\n"
     ]
    },
    {
     "name": "stderr",
     "output_type": "stream",
     "text": [
      "100%|██████████| 79/79 [00:00<00:00, 406.88it/s]\n",
      "100%|██████████| 79/79 [00:00<00:00, 523.43it/s]\n",
      "100%|██████████| 79/79 [00:00<00:00, 440.88it/s]\n",
      "100%|██████████| 79/79 [00:00<00:00, 421.43it/s]\n",
      "100%|██████████| 79/79 [00:00<00:00, 417.82it/s]\n",
      "100%|██████████| 79/79 [00:00<00:00, 427.67it/s]\n",
      "100%|██████████| 79/79 [00:00<00:00, 449.86it/s]\n",
      "100%|██████████| 79/79 [00:00<00:00, 458.32it/s]\n",
      "100%|██████████| 79/79 [00:00<00:00, 599.07it/s]\n",
      "100%|██████████| 79/79 [00:00<00:00, 536.90it/s]\n"
     ]
    },
    {
     "name": "stdout",
     "output_type": "stream",
     "text": [
      "Epoch 80/300 completed, Loss: 0.4606\n"
     ]
    },
    {
     "name": "stderr",
     "output_type": "stream",
     "text": [
      "100%|██████████| 79/79 [00:00<00:00, 502.12it/s]\n",
      "100%|██████████| 79/79 [00:00<00:00, 437.08it/s]\n",
      "100%|██████████| 79/79 [00:00<00:00, 436.52it/s]\n",
      "100%|██████████| 79/79 [00:00<00:00, 333.56it/s]\n",
      "100%|██████████| 79/79 [00:00<00:00, 466.09it/s]\n",
      "100%|██████████| 79/79 [00:00<00:00, 456.62it/s]\n",
      "100%|██████████| 79/79 [00:00<00:00, 454.58it/s]\n",
      "100%|██████████| 79/79 [00:00<00:00, 442.89it/s]\n",
      "100%|██████████| 79/79 [00:00<00:00, 410.75it/s]\n",
      "100%|██████████| 79/79 [00:00<00:00, 551.45it/s]\n"
     ]
    },
    {
     "name": "stdout",
     "output_type": "stream",
     "text": [
      "Epoch 90/300 completed, Loss: 0.4469\n"
     ]
    },
    {
     "name": "stderr",
     "output_type": "stream",
     "text": [
      "100%|██████████| 79/79 [00:00<00:00, 552.99it/s]\n",
      "100%|██████████| 79/79 [00:00<00:00, 513.11it/s]\n",
      "100%|██████████| 79/79 [00:00<00:00, 568.82it/s]\n",
      "100%|██████████| 79/79 [00:00<00:00, 451.66it/s]\n",
      "100%|██████████| 79/79 [00:00<00:00, 431.90it/s]\n",
      "100%|██████████| 79/79 [00:00<00:00, 456.70it/s]\n",
      "100%|██████████| 79/79 [00:00<00:00, 424.46it/s]\n",
      "100%|██████████| 79/79 [00:00<00:00, 408.91it/s]\n",
      "100%|██████████| 79/79 [00:00<00:00, 386.49it/s]\n",
      "100%|██████████| 79/79 [00:00<00:00, 430.47it/s]\n"
     ]
    },
    {
     "name": "stdout",
     "output_type": "stream",
     "text": [
      "Epoch 100/300 completed, Loss: 0.4589\n"
     ]
    },
    {
     "name": "stderr",
     "output_type": "stream",
     "text": [
      "100%|██████████| 79/79 [00:00<00:00, 421.38it/s]\n",
      "100%|██████████| 79/79 [00:00<00:00, 554.86it/s]\n",
      "100%|██████████| 79/79 [00:00<00:00, 573.88it/s]\n",
      "100%|██████████| 79/79 [00:00<00:00, 514.04it/s]\n",
      "100%|██████████| 79/79 [00:00<00:00, 524.34it/s]\n",
      "100%|██████████| 79/79 [00:00<00:00, 441.64it/s]\n",
      "100%|██████████| 79/79 [00:00<00:00, 447.91it/s]\n",
      "100%|██████████| 79/79 [00:00<00:00, 354.74it/s]\n",
      "100%|██████████| 79/79 [00:00<00:00, 447.56it/s]\n",
      "100%|██████████| 79/79 [00:00<00:00, 422.90it/s]\n"
     ]
    },
    {
     "name": "stdout",
     "output_type": "stream",
     "text": [
      "Epoch 110/300 completed, Loss: 0.4628\n"
     ]
    },
    {
     "name": "stderr",
     "output_type": "stream",
     "text": [
      "100%|██████████| 79/79 [00:00<00:00, 435.40it/s]\n",
      "100%|██████████| 79/79 [00:00<00:00, 408.61it/s]\n",
      "100%|██████████| 79/79 [00:00<00:00, 500.96it/s]\n",
      "100%|██████████| 79/79 [00:00<00:00, 476.24it/s]\n",
      "100%|██████████| 79/79 [00:00<00:00, 561.08it/s]\n",
      "100%|██████████| 79/79 [00:00<00:00, 541.39it/s]\n",
      "100%|██████████| 79/79 [00:00<00:00, 624.39it/s]\n",
      "100%|██████████| 79/79 [00:00<00:00, 451.56it/s]\n",
      "100%|██████████| 79/79 [00:00<00:00, 418.43it/s]\n",
      "100%|██████████| 79/79 [00:00<00:00, 345.45it/s]\n"
     ]
    },
    {
     "name": "stdout",
     "output_type": "stream",
     "text": [
      "Epoch 120/300 completed, Loss: 0.4493\n"
     ]
    },
    {
     "name": "stderr",
     "output_type": "stream",
     "text": [
      "100%|██████████| 79/79 [00:00<00:00, 382.87it/s]\n",
      "100%|██████████| 79/79 [00:00<00:00, 418.65it/s]\n",
      "100%|██████████| 79/79 [00:00<00:00, 465.28it/s]\n",
      "100%|██████████| 79/79 [00:00<00:00, 328.47it/s]\n",
      "100%|██████████| 79/79 [00:00<00:00, 446.32it/s]\n",
      "100%|██████████| 79/79 [00:00<00:00, 553.17it/s]\n",
      "100%|██████████| 79/79 [00:00<00:00, 521.43it/s]\n",
      "100%|██████████| 79/79 [00:00<00:00, 582.17it/s]\n",
      "100%|██████████| 79/79 [00:00<00:00, 554.35it/s]\n",
      "100%|██████████| 79/79 [00:00<00:00, 431.03it/s]\n"
     ]
    },
    {
     "name": "stdout",
     "output_type": "stream",
     "text": [
      "Epoch 130/300 completed, Loss: 0.4419\n"
     ]
    },
    {
     "name": "stderr",
     "output_type": "stream",
     "text": [
      "100%|██████████| 79/79 [00:00<00:00, 416.95it/s]\n",
      "100%|██████████| 79/79 [00:00<00:00, 436.33it/s]\n",
      "100%|██████████| 79/79 [00:00<00:00, 406.16it/s]\n",
      "100%|██████████| 79/79 [00:00<00:00, 388.10it/s]\n",
      "100%|██████████| 79/79 [00:00<00:00, 353.73it/s]\n",
      "100%|██████████| 79/79 [00:00<00:00, 415.64it/s]\n",
      "100%|██████████| 79/79 [00:00<00:00, 480.28it/s]\n",
      "100%|██████████| 79/79 [00:00<00:00, 517.54it/s]\n",
      "100%|██████████| 79/79 [00:00<00:00, 577.42it/s]\n",
      "100%|██████████| 79/79 [00:00<00:00, 591.07it/s]\n"
     ]
    },
    {
     "name": "stdout",
     "output_type": "stream",
     "text": [
      "Epoch 140/300 completed, Loss: 0.4506\n"
     ]
    },
    {
     "name": "stderr",
     "output_type": "stream",
     "text": [
      "100%|██████████| 79/79 [00:00<00:00, 511.03it/s]\n",
      "100%|██████████| 79/79 [00:00<00:00, 465.82it/s]\n",
      "100%|██████████| 79/79 [00:00<00:00, 384.65it/s]\n",
      "100%|██████████| 79/79 [00:00<00:00, 359.65it/s]\n",
      "100%|██████████| 79/79 [00:00<00:00, 380.14it/s]\n",
      "100%|██████████| 79/79 [00:00<00:00, 344.05it/s]\n",
      "100%|██████████| 79/79 [00:00<00:00, 426.22it/s]\n",
      "100%|██████████| 79/79 [00:00<00:00, 483.88it/s]\n",
      "100%|██████████| 79/79 [00:00<00:00, 417.26it/s]\n",
      "100%|██████████| 79/79 [00:00<00:00, 527.11it/s]\n"
     ]
    },
    {
     "name": "stdout",
     "output_type": "stream",
     "text": [
      "Epoch 150/300 completed, Loss: 0.4394\n"
     ]
    },
    {
     "name": "stderr",
     "output_type": "stream",
     "text": [
      "100%|██████████| 79/79 [00:00<00:00, 547.29it/s]\n",
      "100%|██████████| 79/79 [00:00<00:00, 565.00it/s]\n",
      "100%|██████████| 79/79 [00:00<00:00, 524.74it/s]\n",
      "100%|██████████| 79/79 [00:00<00:00, 464.82it/s]\n",
      "100%|██████████| 79/79 [00:00<00:00, 484.10it/s]\n",
      "100%|██████████| 79/79 [00:00<00:00, 452.06it/s]\n",
      "100%|██████████| 79/79 [00:00<00:00, 411.61it/s]\n",
      "100%|██████████| 79/79 [00:00<00:00, 397.96it/s]\n",
      "100%|██████████| 79/79 [00:00<00:00, 479.00it/s]\n",
      "100%|██████████| 79/79 [00:00<00:00, 407.55it/s]\n"
     ]
    },
    {
     "name": "stdout",
     "output_type": "stream",
     "text": [
      "Epoch 160/300 completed, Loss: 0.4493\n"
     ]
    },
    {
     "name": "stderr",
     "output_type": "stream",
     "text": [
      "100%|██████████| 79/79 [00:00<00:00, 382.55it/s]\n",
      "100%|██████████| 79/79 [00:00<00:00, 477.76it/s]\n",
      "100%|██████████| 79/79 [00:00<00:00, 446.55it/s]\n",
      "100%|██████████| 79/79 [00:00<00:00, 576.49it/s]\n",
      "100%|██████████| 79/79 [00:00<00:00, 435.29it/s]\n",
      "100%|██████████| 79/79 [00:00<00:00, 415.20it/s]\n",
      "100%|██████████| 79/79 [00:00<00:00, 410.54it/s]\n",
      "100%|██████████| 79/79 [00:00<00:00, 425.19it/s]\n",
      "100%|██████████| 79/79 [00:00<00:00, 362.48it/s]\n",
      "100%|██████████| 79/79 [00:00<00:00, 423.46it/s]\n"
     ]
    },
    {
     "name": "stdout",
     "output_type": "stream",
     "text": [
      "Epoch 170/300 completed, Loss: 0.4569\n"
     ]
    },
    {
     "name": "stderr",
     "output_type": "stream",
     "text": [
      "100%|██████████| 79/79 [00:00<00:00, 371.58it/s]\n",
      "100%|██████████| 79/79 [00:00<00:00, 438.73it/s]\n",
      "100%|██████████| 79/79 [00:00<00:00, 548.71it/s]\n",
      "100%|██████████| 79/79 [00:00<00:00, 536.28it/s]\n",
      "100%|██████████| 79/79 [00:00<00:00, 557.21it/s]\n",
      "100%|██████████| 79/79 [00:00<00:00, 510.67it/s]\n",
      "100%|██████████| 79/79 [00:00<00:00, 396.01it/s]\n",
      "100%|██████████| 79/79 [00:00<00:00, 436.94it/s]\n",
      "100%|██████████| 79/79 [00:00<00:00, 397.71it/s]\n",
      "100%|██████████| 79/79 [00:00<00:00, 384.42it/s]\n"
     ]
    },
    {
     "name": "stdout",
     "output_type": "stream",
     "text": [
      "Epoch 180/300 completed, Loss: 0.4509\n"
     ]
    },
    {
     "name": "stderr",
     "output_type": "stream",
     "text": [
      "100%|██████████| 79/79 [00:00<00:00, 374.79it/s]\n",
      "100%|██████████| 79/79 [00:00<00:00, 434.54it/s]\n",
      "100%|██████████| 79/79 [00:00<00:00, 308.66it/s]\n",
      "100%|██████████| 79/79 [00:00<00:00, 450.06it/s]\n",
      "100%|██████████| 79/79 [00:00<00:00, 498.18it/s]\n",
      "100%|██████████| 79/79 [00:00<00:00, 523.16it/s]\n",
      "100%|██████████| 79/79 [00:00<00:00, 561.31it/s]\n",
      "100%|██████████| 79/79 [00:00<00:00, 377.51it/s]\n",
      "100%|██████████| 79/79 [00:00<00:00, 437.50it/s]\n",
      "100%|██████████| 79/79 [00:00<00:00, 504.55it/s]\n"
     ]
    },
    {
     "name": "stdout",
     "output_type": "stream",
     "text": [
      "Epoch 190/300 completed, Loss: 0.4325\n"
     ]
    },
    {
     "name": "stderr",
     "output_type": "stream",
     "text": [
      "100%|██████████| 79/79 [00:00<00:00, 452.76it/s]\n",
      "100%|██████████| 79/79 [00:00<00:00, 426.96it/s]\n",
      "100%|██████████| 79/79 [00:00<00:00, 438.58it/s]\n",
      "100%|██████████| 79/79 [00:00<00:00, 458.40it/s]\n",
      "100%|██████████| 79/79 [00:00<00:00, 394.93it/s]\n",
      "100%|██████████| 79/79 [00:00<00:00, 415.07it/s]\n",
      "100%|██████████| 79/79 [00:00<00:00, 648.68it/s]\n",
      "100%|██████████| 79/79 [00:00<00:00, 630.30it/s]\n",
      "100%|██████████| 79/79 [00:00<00:00, 558.97it/s]\n",
      "100%|██████████| 79/79 [00:00<00:00, 412.82it/s]\n"
     ]
    },
    {
     "name": "stdout",
     "output_type": "stream",
     "text": [
      "Epoch 200/300 completed, Loss: 0.4399\n"
     ]
    },
    {
     "name": "stderr",
     "output_type": "stream",
     "text": [
      "100%|██████████| 79/79 [00:00<00:00, 466.50it/s]\n",
      "100%|██████████| 79/79 [00:00<00:00, 426.67it/s]\n",
      "100%|██████████| 79/79 [00:00<00:00, 450.37it/s]\n",
      "100%|██████████| 79/79 [00:00<00:00, 486.36it/s]\n",
      "100%|██████████| 79/79 [00:00<00:00, 410.87it/s]\n",
      "100%|██████████| 79/79 [00:00<00:00, 475.89it/s]\n",
      "100%|██████████| 79/79 [00:00<00:00, 429.78it/s]\n",
      "100%|██████████| 79/79 [00:00<00:00, 463.35it/s]\n",
      "100%|██████████| 79/79 [00:00<00:00, 603.31it/s]\n",
      "100%|██████████| 79/79 [00:00<00:00, 571.31it/s]\n"
     ]
    },
    {
     "name": "stdout",
     "output_type": "stream",
     "text": [
      "Epoch 210/300 completed, Loss: 0.4494\n"
     ]
    },
    {
     "name": "stderr",
     "output_type": "stream",
     "text": [
      "100%|██████████| 79/79 [00:00<00:00, 572.07it/s]\n",
      "100%|██████████| 79/79 [00:00<00:00, 474.24it/s]\n",
      "100%|██████████| 79/79 [00:00<00:00, 398.11it/s]\n",
      "100%|██████████| 79/79 [00:00<00:00, 426.62it/s]\n",
      "100%|██████████| 79/79 [00:00<00:00, 460.86it/s]\n",
      "100%|██████████| 79/79 [00:00<00:00, 435.87it/s]\n",
      "100%|██████████| 79/79 [00:00<00:00, 414.31it/s]\n",
      "100%|██████████| 79/79 [00:00<00:00, 400.50it/s]\n",
      "100%|██████████| 79/79 [00:00<00:00, 398.31it/s]\n",
      "100%|██████████| 79/79 [00:00<00:00, 425.09it/s]\n"
     ]
    },
    {
     "name": "stdout",
     "output_type": "stream",
     "text": [
      "Epoch 220/300 completed, Loss: 0.4374\n"
     ]
    },
    {
     "name": "stderr",
     "output_type": "stream",
     "text": [
      "100%|██████████| 79/79 [00:00<00:00, 481.55it/s]\n",
      "100%|██████████| 79/79 [00:00<00:00, 350.70it/s]\n",
      "100%|██████████| 79/79 [00:00<00:00, 484.83it/s]\n",
      "100%|██████████| 79/79 [00:00<00:00, 498.58it/s]\n",
      "100%|██████████| 79/79 [00:00<00:00, 481.19it/s]\n",
      "100%|██████████| 79/79 [00:00<00:00, 407.05it/s]\n",
      "100%|██████████| 79/79 [00:00<00:00, 437.78it/s]\n",
      "100%|██████████| 79/79 [00:00<00:00, 427.92it/s]\n",
      "100%|██████████| 79/79 [00:00<00:00, 398.23it/s]\n",
      "100%|██████████| 79/79 [00:00<00:00, 382.97it/s]\n"
     ]
    },
    {
     "name": "stdout",
     "output_type": "stream",
     "text": [
      "Epoch 230/300 completed, Loss: 0.4324\n"
     ]
    },
    {
     "name": "stderr",
     "output_type": "stream",
     "text": [
      "100%|██████████| 79/79 [00:00<00:00, 452.11it/s]\n",
      "100%|██████████| 79/79 [00:00<00:00, 505.50it/s]\n",
      "100%|██████████| 79/79 [00:00<00:00, 553.86it/s]\n",
      "100%|██████████| 79/79 [00:00<00:00, 569.04it/s]\n",
      "100%|██████████| 79/79 [00:00<00:00, 597.85it/s]\n",
      "100%|██████████| 79/79 [00:00<00:00, 462.18it/s]\n",
      "100%|██████████| 79/79 [00:00<00:00, 363.63it/s]\n",
      "100%|██████████| 79/79 [00:00<00:00, 294.89it/s]\n",
      "100%|██████████| 79/79 [00:00<00:00, 482.22it/s]\n",
      "100%|██████████| 79/79 [00:00<00:00, 434.58it/s]\n"
     ]
    },
    {
     "name": "stdout",
     "output_type": "stream",
     "text": [
      "Epoch 240/300 completed, Loss: 0.4665\n"
     ]
    },
    {
     "name": "stderr",
     "output_type": "stream",
     "text": [
      "100%|██████████| 79/79 [00:00<00:00, 355.09it/s]\n",
      "100%|██████████| 79/79 [00:00<00:00, 461.74it/s]\n",
      "100%|██████████| 79/79 [00:00<00:00, 428.06it/s]\n",
      "100%|██████████| 79/79 [00:00<00:00, 521.01it/s]\n",
      "100%|██████████| 79/79 [00:00<00:00, 592.07it/s]\n",
      "100%|██████████| 79/79 [00:00<00:00, 593.37it/s]\n",
      "100%|██████████| 79/79 [00:00<00:00, 477.34it/s]\n",
      "100%|██████████| 79/79 [00:00<00:00, 415.40it/s]\n",
      "100%|██████████| 79/79 [00:00<00:00, 452.95it/s]\n",
      "100%|██████████| 79/79 [00:00<00:00, 436.96it/s]\n"
     ]
    },
    {
     "name": "stdout",
     "output_type": "stream",
     "text": [
      "Epoch 250/300 completed, Loss: 0.4366\n"
     ]
    },
    {
     "name": "stderr",
     "output_type": "stream",
     "text": [
      "100%|██████████| 79/79 [00:00<00:00, 447.48it/s]\n",
      "100%|██████████| 79/79 [00:00<00:00, 416.33it/s]\n",
      "100%|██████████| 79/79 [00:00<00:00, 403.62it/s]\n",
      "100%|██████████| 79/79 [00:00<00:00, 421.24it/s]\n",
      "100%|██████████| 79/79 [00:00<00:00, 447.64it/s]\n",
      "100%|██████████| 79/79 [00:00<00:00, 546.66it/s]\n",
      "100%|██████████| 79/79 [00:00<00:00, 576.50it/s]\n",
      "100%|██████████| 79/79 [00:00<00:00, 562.59it/s]\n",
      "100%|██████████| 79/79 [00:00<00:00, 530.23it/s]\n",
      "100%|██████████| 79/79 [00:00<00:00, 458.38it/s]\n"
     ]
    },
    {
     "name": "stdout",
     "output_type": "stream",
     "text": [
      "Epoch 260/300 completed, Loss: 0.4449\n"
     ]
    },
    {
     "name": "stderr",
     "output_type": "stream",
     "text": [
      "100%|██████████| 79/79 [00:00<00:00, 424.61it/s]\n",
      "100%|██████████| 79/79 [00:00<00:00, 334.98it/s]\n",
      "100%|██████████| 79/79 [00:00<00:00, 339.09it/s]\n",
      "100%|██████████| 79/79 [00:00<00:00, 408.41it/s]\n",
      "100%|██████████| 79/79 [00:00<00:00, 427.02it/s]\n",
      "100%|██████████| 79/79 [00:00<00:00, 463.95it/s]\n",
      "100%|██████████| 79/79 [00:00<00:00, 410.98it/s]\n",
      "100%|██████████| 79/79 [00:00<00:00, 549.34it/s]\n",
      "100%|██████████| 79/79 [00:00<00:00, 559.54it/s]\n",
      "100%|██████████| 79/79 [00:00<00:00, 496.62it/s]\n"
     ]
    },
    {
     "name": "stdout",
     "output_type": "stream",
     "text": [
      "Epoch 270/300 completed, Loss: 0.4344\n"
     ]
    },
    {
     "name": "stderr",
     "output_type": "stream",
     "text": [
      "100%|██████████| 79/79 [00:00<00:00, 392.61it/s]\n",
      "100%|██████████| 79/79 [00:00<00:00, 396.90it/s]\n",
      "100%|██████████| 79/79 [00:00<00:00, 477.21it/s]\n",
      "100%|██████████| 79/79 [00:00<00:00, 380.84it/s]\n",
      "100%|██████████| 79/79 [00:00<00:00, 357.98it/s]\n",
      "100%|██████████| 79/79 [00:00<00:00, 427.32it/s]\n",
      "100%|██████████| 79/79 [00:00<00:00, 464.11it/s]\n",
      "100%|██████████| 79/79 [00:00<00:00, 436.18it/s]\n",
      "100%|██████████| 79/79 [00:00<00:00, 498.23it/s]\n",
      "100%|██████████| 79/79 [00:00<00:00, 602.57it/s]\n"
     ]
    },
    {
     "name": "stdout",
     "output_type": "stream",
     "text": [
      "Epoch 280/300 completed, Loss: 0.4400\n"
     ]
    },
    {
     "name": "stderr",
     "output_type": "stream",
     "text": [
      "100%|██████████| 79/79 [00:00<00:00, 527.75it/s]\n",
      "100%|██████████| 79/79 [00:00<00:00, 640.54it/s]\n",
      "100%|██████████| 79/79 [00:00<00:00, 534.16it/s]\n",
      "100%|██████████| 79/79 [00:00<00:00, 474.07it/s]\n",
      "100%|██████████| 79/79 [00:00<00:00, 406.57it/s]\n",
      "100%|██████████| 79/79 [00:00<00:00, 429.12it/s]\n",
      "100%|██████████| 79/79 [00:00<00:00, 352.68it/s]\n",
      "100%|██████████| 79/79 [00:00<00:00, 431.78it/s]\n",
      "100%|██████████| 79/79 [00:00<00:00, 418.64it/s]\n",
      "100%|██████████| 79/79 [00:00<00:00, 449.06it/s]\n"
     ]
    },
    {
     "name": "stdout",
     "output_type": "stream",
     "text": [
      "Epoch 290/300 completed, Loss: 0.4277\n"
     ]
    },
    {
     "name": "stderr",
     "output_type": "stream",
     "text": [
      "100%|██████████| 79/79 [00:00<00:00, 478.48it/s]\n",
      "100%|██████████| 79/79 [00:00<00:00, 584.21it/s]\n",
      "100%|██████████| 79/79 [00:00<00:00, 559.05it/s]\n",
      "100%|██████████| 79/79 [00:00<00:00, 563.89it/s]\n",
      "100%|██████████| 79/79 [00:00<00:00, 545.59it/s]\n",
      "100%|██████████| 79/79 [00:00<00:00, 431.12it/s]\n",
      "100%|██████████| 79/79 [00:00<00:00, 444.00it/s]\n",
      "100%|██████████| 79/79 [00:00<00:00, 471.89it/s]\n",
      "100%|██████████| 79/79 [00:00<00:00, 369.74it/s]\n",
      "100%|██████████| 79/79 [00:00<00:00, 425.77it/s]\n"
     ]
    },
    {
     "name": "stdout",
     "output_type": "stream",
     "text": [
      "Epoch 300/300 completed, Loss: 0.4365\n",
      "Final loss: 0.4365\n",
      "Diffusion process gif saved as 'diffusion_process.gif'\n",
      "Training loss plot saved as 'training_loss.png'\n"
     ]
    }
   ],
   "source": [
    "import torch\n",
    "import torch.nn as nn\n",
    "import torch.optim as optim\n",
    "from torch.utils.data import DataLoader, TensorDataset\n",
    "from sklearn.datasets import make_blobs\n",
    "import numpy as np\n",
    "import matplotlib.pyplot as plt\n",
    "from tqdm import tqdm\n",
    "import imageio\n",
    "\n",
    "# Hyperparameters\n",
    "timesteps = 200\n",
    "batch_size = 128\n",
    "epochs = 300\n",
    "learning_rate = 1e-3\n",
    "\n",
    "# Generate two Gaussians dataset in corners (4,4) and (4,-4)\n",
    "X, _ = make_blobs(n_samples=10000, centers=[(4,4), (4,-4)], cluster_std=0.5, random_state=42)\n",
    "X = torch.tensor(X, dtype=torch.float32)\n",
    "\n",
    "# Define beta schedule\n",
    "def linear_beta_schedule(timesteps):\n",
    "    beta_start = 0.0001\n",
    "    beta_end = 0.02\n",
    "    return torch.linspace(beta_start, beta_end, timesteps)\n",
    "\n",
    "betas = linear_beta_schedule(timesteps)\n",
    "alphas = 1. - betas\n",
    "alphas_cumprod = torch.cumprod(alphas, axis=0)\n",
    "sqrt_alphas_cumprod = torch.sqrt(alphas_cumprod)\n",
    "sqrt_one_minus_alphas_cumprod = torch.sqrt(1. - alphas_cumprod)\n",
    "\n",
    "# Helper function to extract the appropriate t index for a batch of indices\n",
    "def extract(a, t, x_shape):\n",
    "    batch_size = t.shape[0]\n",
    "    out = a.gather(-1, t)\n",
    "    return out.reshape(batch_size, *((1,) * (len(x_shape) - 1)))\n",
    "\n",
    "# Forward diffusion process\n",
    "def q_sample(x_start, t, noise=None):\n",
    "    if noise is None:\n",
    "        noise = torch.randn_like(x_start)\n",
    "\n",
    "    sqrt_alphas_cumprod_t = extract(sqrt_alphas_cumprod, t, x_start.shape)\n",
    "    sqrt_one_minus_alphas_cumprod_t = extract(sqrt_one_minus_alphas_cumprod, t, x_start.shape)\n",
    "\n",
    "    return sqrt_alphas_cumprod_t * x_start + sqrt_one_minus_alphas_cumprod_t * noise\n",
    "\n",
    "# Simple MLP model\n",
    "class SimpleMLP(nn.Module):\n",
    "    def __init__(self):\n",
    "        super().__init__()\n",
    "        self.net = nn.Sequential(\n",
    "            nn.Linear(2 + 1, 64),\n",
    "            nn.ReLU(),\n",
    "            nn.Linear(64, 64),\n",
    "            nn.ReLU(),\n",
    "            nn.Linear(64, 2)\n",
    "        )\n",
    "\n",
    "    def forward(self, x, t):\n",
    "        x = torch.cat([x, t.unsqueeze(-1)], dim=-1)\n",
    "        return self.net(x)\n",
    "\n",
    "# Training function\n",
    "def train(model, dataloader, optimizer, device):\n",
    "    model.train()\n",
    "    total_loss = 0\n",
    "    for x in tqdm(dataloader):\n",
    "        x = x[0].to(device)\n",
    "        optimizer.zero_grad()\n",
    "\n",
    "        t = torch.randint(0, timesteps, (x.shape[0],), device=device).long()\n",
    "        noise = torch.randn_like(x)\n",
    "        x_noisy = q_sample(x, t, noise)\n",
    "        noise_pred = model(x_noisy, t.float())\n",
    "        loss = nn.MSELoss()(noise_pred, noise)\n",
    "\n",
    "        loss.backward()\n",
    "        optimizer.step()\n",
    "        \n",
    "        total_loss += loss.item()\n",
    "    \n",
    "    return total_loss / len(dataloader)\n",
    "\n",
    "# Sampling function\n",
    "@torch.no_grad()\n",
    "def sample(model, n_samples, device, save_path=None):\n",
    "    model.eval()\n",
    "    x = torch.randn(n_samples, 2).to(device)\n",
    "    images = []\n",
    "    for t in reversed(range(timesteps)):\n",
    "        t_batch = torch.full((n_samples,), t, device=device, dtype=torch.long)\n",
    "        predicted_noise = model(x, t_batch.float())\n",
    "        alpha = alphas[t]\n",
    "        alpha_hat = alphas_cumprod[t]\n",
    "        beta = betas[t]\n",
    "        if t > 0:\n",
    "            noise = torch.randn_like(x)\n",
    "        else:\n",
    "            noise = torch.zeros_like(x)\n",
    "        x = 1 / torch.sqrt(alpha) * (x - ((1 - alpha) / (torch.sqrt(1 - alpha_hat))) * predicted_noise) + torch.sqrt(beta) * noise\n",
    "        \n",
    "        if t % 10 == 0 or t == timesteps - 1:  # Save every 10th frame and the first frame\n",
    "            fig, ax = plt.subplots(figsize=(6, 6))\n",
    "            ax.scatter(x.cpu().numpy()[:, 0], x.cpu().numpy()[:, 1], s=1, c='red', alpha=0.7)\n",
    "            ax.set_xlim(-6, 6)\n",
    "            ax.set_ylim(-6, 6)\n",
    "            ax.set_title(f\"Step {timesteps - t}/{timesteps}\")\n",
    "            plt.close(fig)\n",
    "            images.append(fig2img(fig))\n",
    "    \n",
    "    if save_path:\n",
    "        imageio.mimsave(save_path, images, fps=5)\n",
    "    \n",
    "    return x\n",
    "\n",
    "# Helper function to convert matplotlib figure to image\n",
    "def fig2img(fig):\n",
    "    fig.canvas.draw()\n",
    "    return np.array(fig.canvas.renderer._renderer)\n",
    "\n",
    "# Set up device, model, optimizer, and dataloader\n",
    "device = torch.device(\"cuda\" if torch.cuda.is_available() else \"cpu\")\n",
    "model = SimpleMLP().to(device)\n",
    "optimizer = optim.Adam(model.parameters(), lr=learning_rate)\n",
    "dataloader = DataLoader(TensorDataset(X), batch_size=batch_size, shuffle=True)\n",
    "\n",
    "# Training loop\n",
    "losses = []\n",
    "for epoch in range(epochs):\n",
    "    loss = train(model, dataloader, optimizer, device)\n",
    "    losses.append(loss)\n",
    "    if (epoch + 1) % 10 == 0:\n",
    "        print(f\"Epoch {epoch + 1}/{epochs} completed, Loss: {loss:.4f}\")\n",
    "\n",
    "# Print final loss\n",
    "print(f\"Final loss: {losses[-1]:.4f}\")\n",
    "\n",
    "# Generate samples and create gif\n",
    "samples = sample(model, 1000, device, save_path='diffusion_process.gif')\n",
    "\n",
    "# Plot loss\n",
    "plt.figure(figsize=(10, 6))\n",
    "plt.plot(range(1, epochs + 1), losses)\n",
    "plt.title(\"Training Loss\")\n",
    "plt.xlabel(\"Epoch\")\n",
    "plt.ylabel(\"Loss\")\n",
    "plt.tight_layout()\n",
    "plt.savefig('training_loss.png')\n",
    "plt.close()\n",
    "\n",
    "print(\"Diffusion process gif saved as 'diffusion_process.gif'\")\n",
    "print(\"Training loss plot saved as 'training_loss.png'\")"
   ]
  },
  {
   "cell_type": "code",
   "execution_count": null,
   "metadata": {},
   "outputs": [],
   "source": []
  },
  {
   "cell_type": "code",
   "execution_count": 27,
   "metadata": {},
   "outputs": [
    {
     "name": "stdout",
     "output_type": "stream",
     "text": [
      "Diffusion process animation saved as 'diffusion_process.gif'\n",
      "Training loss plot saved as 'training_loss.png'\n"
     ]
    }
   ],
   "source": [
    "import matplotlib.pyplot as plt\n",
    "import matplotlib.animation as animation\n",
    "import numpy as np\n",
    "import torch\n",
    "\n",
    "# Sampling function\n",
    "@torch.no_grad()\n",
    "def sample(model, n_samples, device, source_samples, target_samples):\n",
    "    model.eval()\n",
    "    x = torch.randn(n_samples, 2).to(device)\n",
    "    frames = []\n",
    "    \n",
    "    fig, ax = plt.subplots(figsize=(10, 10))\n",
    "    scatter = ax.scatter([], [], s=5, c='red', alpha=0.7, label='Generated')\n",
    "    source_scatter = ax.scatter(source_samples[:, 0], source_samples[:, 1], s=10, c='blue', alpha=0.3, label='Source')\n",
    "    target_scatter = ax.scatter(target_samples[:, 0], target_samples[:, 1], s=10, c='green', alpha=0.3, label='Target')\n",
    "    time_text = ax.text(0.02, 0.02, '', transform=ax.transAxes, fontsize=16, verticalalignment='bottom')\n",
    "    \n",
    "    # Set axis limits based on the data\n",
    "    all_data = np.vstack((source_samples, target_samples))\n",
    "    x_min, x_max = all_data[:, 0].min(), all_data[:, 0].max()\n",
    "    y_min, y_max = all_data[:, 1].min(), all_data[:, 1].max()\n",
    "    margin = 0.1 * max(x_max - x_min, y_max - y_min)\n",
    "    ax.set_xlim(x_min - margin, x_max + margin)\n",
    "    ax.set_ylim(y_min - margin, y_max + margin)\n",
    "    \n",
    "    ax.legend(loc='lower left')\n",
    "    \n",
    "    # Remove axis and ticks\n",
    "    ax.axis('off')\n",
    "    \n",
    "    def update(frame):\n",
    "        nonlocal x\n",
    "        t = timesteps - 1 - frame\n",
    "        t_batch = torch.full((n_samples,), t, device=device, dtype=torch.long)\n",
    "        predicted_noise = model(x, t_batch.float())\n",
    "        alpha = alphas[t]\n",
    "        alpha_hat = alphas_cumprod[t]\n",
    "        beta = betas[t]\n",
    "        if t > 0:\n",
    "            noise = torch.randn_like(x)\n",
    "        else:\n",
    "            noise = torch.zeros_like(x)\n",
    "        x = 1 / torch.sqrt(alpha) * (x - ((1 - alpha) / (torch.sqrt(1 - alpha_hat))) * predicted_noise) + torch.sqrt(beta) * noise\n",
    "        \n",
    "        scatter.set_offsets(x.cpu().numpy())\n",
    "        time_text.set_text(f't = {frame}')\n",
    "        return scatter, time_text\n",
    "    \n",
    "    anim = animation.FuncAnimation(fig, update, frames=timesteps, interval=50, blit=True)\n",
    "    \n",
    "    # Save as GIF\n",
    "    anim.save('diffusion_process.gif', writer='pillow', fps=20)\n",
    "    plt.close(fig)\n",
    "    \n",
    "    return x\n",
    "\n",
    "# Generate source and target samples\n",
    "source_samples = torch.randn(1000, 2).numpy()\n",
    "target_samples = X.numpy()\n",
    "\n",
    "# Generate samples and create animation\n",
    "samples = sample(model, 5000, device, source_samples, target_samples)\n",
    "\n",
    "# Plot loss\n",
    "plt.figure(figsize=(10, 6))\n",
    "plt.plot(range(1, epochs + 1), losses)\n",
    "plt.title(\"Training Loss\")\n",
    "plt.xlabel(\"Epoch\")\n",
    "plt.ylabel(\"Loss\")\n",
    "plt.tight_layout()\n",
    "plt.savefig('training_loss.png')\n",
    "plt.close()\n",
    "\n",
    "print(\"Diffusion process animation saved as 'diffusion_process.gif'\")\n",
    "print(\"Training loss plot saved as 'training_loss.png'\")"
   ]
  },
  {
   "cell_type": "code",
   "execution_count": 16,
   "metadata": {},
   "outputs": [],
   "source": [
    "# Generate samples\n",
    "samples = sample(model, 5000, device).cpu().numpy()\n",
    "\n",
    "# Define font sizes\n",
    "base_fontsize = 18\n",
    "title_fontsize = base_fontsize + 2\n",
    "label_fontsize = base_fontsize\n",
    "tick_fontsize = base_fontsize - 2\n",
    "\n",
    "# Plot results\n",
    "plt.figure(figsize=(20, 6))\n",
    "plt.rcParams.update({'font.size': base_fontsize})  # Set base font size\n",
    "\n",
    "plt.subplot(131)\n",
    "plt.scatter(X[:, 0], X[:, 1], s=5, c='blue', alpha=0.7)\n",
    "plt.title(\"Original Data\", fontsize=title_fontsize)\n",
    "plt.xticks(fontsize=tick_fontsize)\n",
    "plt.yticks(fontsize=tick_fontsize)\n",
    "\n",
    "plt.subplot(132)\n",
    "plt.scatter(samples[:, 0], samples[:, 1], s=5, c='red', alpha=0.7)\n",
    "plt.title(\"Generated Samples\", fontsize=title_fontsize)\n",
    "plt.xticks(fontsize=tick_fontsize)\n",
    "plt.yticks(fontsize=tick_fontsize)\n",
    "\n",
    "plt.subplot(133)\n",
    "plt.plot(range(1, epochs + 1), losses, linewidth=4)\n",
    "plt.title(\"Training Loss\", fontsize=title_fontsize)\n",
    "plt.xlabel(\"Epoch\", fontsize=label_fontsize)\n",
    "plt.ylabel(\"Loss\", fontsize=label_fontsize)\n",
    "plt.xticks(fontsize=tick_fontsize)\n",
    "plt.yticks(fontsize=tick_fontsize)\n",
    "\n",
    "# Add dotted line at minimum loss\n",
    "min_loss = min(losses)\n",
    "plt.axhline(y=min_loss, color='r', linestyle=':', linewidth=2)\n",
    "\n",
    "# Add text for minimum objective using LaTeX\n",
    "plt.text(epochs/2, min_loss, r'$\\mathbf{min~~ L_{\\rm diffusion} > 0}$', \n",
    "         horizontalalignment='right', verticalalignment='bottom', \n",
    "         fontsize=label_fontsize, color='r', fontweight='bold')\n",
    "\n",
    "plt.tight_layout()\n",
    "plt.savefig('diffusion_results.png', dpi=300, bbox_inches='tight')\n",
    "plt.close()"
   ]
  },
  {
   "cell_type": "code",
   "execution_count": null,
   "metadata": {},
   "outputs": [],
   "source": []
  },
  {
   "cell_type": "code",
   "execution_count": null,
   "metadata": {},
   "outputs": [],
   "source": []
  },
  {
   "cell_type": "code",
   "execution_count": null,
   "metadata": {},
   "outputs": [],
   "source": []
  },
  {
   "cell_type": "code",
   "execution_count": null,
   "metadata": {},
   "outputs": [],
   "source": []
  }
 ],
 "metadata": {
  "kernelspec": {
   "display_name": "base",
   "language": "python",
   "name": "python3"
  },
  "language_info": {
   "codemirror_mode": {
    "name": "ipython",
    "version": 3
   },
   "file_extension": ".py",
   "mimetype": "text/x-python",
   "name": "python",
   "nbconvert_exporter": "python",
   "pygments_lexer": "ipython3",
   "version": "3.9.13"
  }
 },
 "nbformat": 4,
 "nbformat_minor": 2
}
